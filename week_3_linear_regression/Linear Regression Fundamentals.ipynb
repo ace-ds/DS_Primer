{
 "cells": [
  {
   "cell_type": "markdown",
   "metadata": {},
   "source": [
    "## Linear Regression - Fundamentals - From Scratch"
   ]
  },
  {
   "cell_type": "code",
   "execution_count": 41,
   "metadata": {},
   "outputs": [],
   "source": [
    "import pandas as pd\n",
    "import numpy as np\n",
    "from matplotlib import pyplot as plt"
   ]
  },
  {
   "cell_type": "code",
   "execution_count": 54,
   "metadata": {},
   "outputs": [],
   "source": [
    "np.random.seed(100)"
   ]
  },
  {
   "cell_type": "markdown",
   "metadata": {},
   "source": [
    "#### Create the Feature Set"
   ]
  },
  {
   "cell_type": "code",
   "execution_count": 55,
   "metadata": {},
   "outputs": [],
   "source": [
    "X = 2.5 * np.random.randn(100) + 1.5 "
   ]
  },
  {
   "cell_type": "code",
   "execution_count": 56,
   "metadata": {},
   "outputs": [
    {
     "data": {
      "text/plain": [
       "array([-2.87441368,  2.35670101,  4.38258951,  0.86890991,  3.95330197,\n",
       "        2.7855471 ,  2.05294917, -1.17510833,  1.02626042,  2.13750361,\n",
       "        0.35493254,  2.58790872,  0.04101237,  3.54211768,  3.18180201,\n",
       "        1.23897214,  0.17179906,  4.07433171,  0.40466094, -1.29579562,\n",
       "        5.54745415,  5.35401294,  0.87030215, -0.60608935,  1.96129673,\n",
       "        3.8427055 ,  3.32750086,  4.90389031,  0.68440485,  1.63919004,\n",
       "        2.05599902, -2.10804249, -0.39088076,  3.54113503,  3.3761119 ,\n",
       "        0.36013268,  4.47405567, -2.72654207, -1.89099762, -1.58108628,\n",
       "        0.1389021 , -0.17042934,  1.51828641, -0.03234684,  4.74937019,\n",
       "       -2.83273906, -0.95827525,  2.39376938, -2.53394626,  5.17678467,\n",
       "       -1.47004399,  0.12563452, -0.8501154 , -0.56983091,  1.77215867,\n",
       "        2.76952398, -0.65556837,  4.62367436,  1.30097189, -0.7243287 ,\n",
       "       -0.70449597,  1.54659737,  2.09461155,  1.53387137, -2.5888235 ,\n",
       "       -1.11052469,  3.0325972 ,  3.34051303,  4.0673036 , -2.08047653,\n",
       "       -3.10297075,  2.41523307,  0.67055716, -0.22304495,  6.5865189 ,\n",
       "        0.12321397,  3.37613333, -1.76748085,  2.95143334, -1.26130773,\n",
       "        3.22530368,  3.21722517, -2.41671882,  3.7624353 ,  3.447056  ,\n",
       "        2.57058218,  1.77217997,  1.57070909,  0.05293544, -1.498628  ,\n",
       "       -2.76488001,  2.42290989,  6.19143357,  0.55774162,  6.0798402 ,\n",
       "        1.50754359,  1.30994134,  1.50989398,  1.03746472, -4.71787884])"
      ]
     },
     "execution_count": 56,
     "metadata": {},
     "output_type": "execute_result"
    }
   ],
   "source": [
    "X"
   ]
  },
  {
   "cell_type": "code",
   "execution_count": 58,
   "metadata": {},
   "outputs": [],
   "source": [
    "X = 2.5 * np.random.randn(100) + 1.5 \n",
    "\n",
    "res = 0.5 * np.random.randn(100) "
   ]
  },
  {
   "cell_type": "code",
   "execution_count": 59,
   "metadata": {},
   "outputs": [],
   "source": [
    "y = 2 + 0.3 * X + res  "
   ]
  },
  {
   "cell_type": "code",
   "execution_count": 61,
   "metadata": {},
   "outputs": [],
   "source": [
    "df = pd.DataFrame({'X': X,'y': y})"
   ]
  },
  {
   "cell_type": "code",
   "execution_count": 63,
   "metadata": {},
   "outputs": [
    {
     "data": {
      "text/html": [
       "<div>\n",
       "<style scoped>\n",
       "    .dataframe tbody tr th:only-of-type {\n",
       "        vertical-align: middle;\n",
       "    }\n",
       "\n",
       "    .dataframe tbody tr th {\n",
       "        vertical-align: top;\n",
       "    }\n",
       "\n",
       "    .dataframe thead th {\n",
       "        text-align: right;\n",
       "    }\n",
       "</style>\n",
       "<table border=\"1\" class=\"dataframe\">\n",
       "  <thead>\n",
       "    <tr style=\"text-align: right;\">\n",
       "      <th></th>\n",
       "      <th>X</th>\n",
       "      <th>y</th>\n",
       "    </tr>\n",
       "  </thead>\n",
       "  <tbody>\n",
       "    <tr>\n",
       "      <th>0</th>\n",
       "      <td>3.011059</td>\n",
       "      <td>2.629072</td>\n",
       "    </tr>\n",
       "    <tr>\n",
       "      <th>1</th>\n",
       "      <td>-0.767576</td>\n",
       "      <td>1.743410</td>\n",
       "    </tr>\n",
       "    <tr>\n",
       "      <th>2</th>\n",
       "      <td>2.980058</td>\n",
       "      <td>4.480713</td>\n",
       "    </tr>\n",
       "    <tr>\n",
       "      <th>3</th>\n",
       "      <td>0.407339</td>\n",
       "      <td>3.789303</td>\n",
       "    </tr>\n",
       "    <tr>\n",
       "      <th>4</th>\n",
       "      <td>1.754439</td>\n",
       "      <td>3.328018</td>\n",
       "    </tr>\n",
       "  </tbody>\n",
       "</table>\n",
       "</div>"
      ],
      "text/plain": [
       "          X         y\n",
       "0  3.011059  2.629072\n",
       "1 -0.767576  1.743410\n",
       "2  2.980058  4.480713\n",
       "3  0.407339  3.789303\n",
       "4  1.754439  3.328018"
      ]
     },
     "execution_count": 63,
     "metadata": {},
     "output_type": "execute_result"
    }
   ],
   "source": [
    "df.head()"
   ]
  },
  {
   "cell_type": "markdown",
   "metadata": {},
   "source": [
    "#### Regression Equation "
   ]
  },
  {
   "cell_type": "markdown",
   "metadata": {},
   "source": [
    "$$ Y_{pred} = \\alpha + \\beta * X $$"
   ]
  },
  {
   "cell_type": "markdown",
   "metadata": {},
   "source": [
    "The parameters for the regression equations"
   ]
  },
  {
   "cell_type": "markdown",
   "metadata": {},
   "source": [
    "#### Covariance"
   ]
  },
  {
   "cell_type": "markdown",
   "metadata": {},
   "source": [
    "$$ \\beta = \\frac{\\sum_{i=1}^{n}(X_i - \\overline X)(Y_i - \\overline Y)}{\\sum_{i=1}^{n}(X_i - \\overline X)^2} $$"
   ]
  },
  {
   "cell_type": "markdown",
   "metadata": {},
   "source": [
    "#### Variance"
   ]
  },
  {
   "cell_type": "markdown",
   "metadata": {},
   "source": [
    "$$ \\alpha = \\overline Y - \\beta*\\overline X $$"
   ]
  },
  {
   "cell_type": "code",
   "execution_count": 64,
   "metadata": {},
   "outputs": [
    {
     "name": "stdout",
     "output_type": "stream",
     "text": [
      "alpha = 2.0467893140207383\n",
      "beta = 0.29755690847967486\n"
     ]
    }
   ],
   "source": [
    "xmean = np.mean(X)\n",
    "\n",
    "ymean = np.mean(y)\n",
    "\n",
    "# Calculate the terms needed for the numator and denominator of beta\n",
    "df['xycov'] = (df['X'] - xmean) * (df['y'] - ymean)\n",
    "df['xvar'] = (df['X'] - xmean)**2\n",
    "\n",
    "# Calculate beta and alpha\n",
    "beta = df['xycov'].sum() / df['xvar'].sum()\n",
    "alpha = ymean - (beta * xmean)\n",
    "print(f'alpha = {alpha}')\n",
    "print(f'beta = {beta}')"
   ]
  },
  {
   "cell_type": "markdown",
   "metadata": {},
   "source": [
    "##### Now our model can be written as \n",
    "\n",
    "Yₑ = 2.048 + 0.293 X"
   ]
  },
  {
   "cell_type": "code",
   "execution_count": 19,
   "metadata": {},
   "outputs": [],
   "source": [
    "ypred = alpha + beta * X"
   ]
  },
  {
   "cell_type": "code",
   "execution_count": 20,
   "metadata": {},
   "outputs": [
    {
     "data": {
      "image/png": "[encoded data removed]",
      "text/plain": [
       "<Figure size 864x432 with 1 Axes>"
      ]
     },
     "metadata": {
      "needs_background": "light"
     },
     "output_type": "display_data"
    }
   ],
   "source": [
    "plt.figure(figsize=(12, 6))\n",
    "plt.plot(X, ypred)# regression line\n",
    "plt.plot(X, y, 'ro')   # scatter plot showing actual data\n",
    "plt.title('Actual vs Predicted')\n",
    "plt.xlabel('X')\n",
    "plt.ylabel('y')\n",
    "\n",
    "plt.show()"
   ]
  },
  {
   "cell_type": "markdown",
   "metadata": {},
   "source": [
    "$$ \\sum_{i=1}^{n}(Y_i - Y_{e_i})^2 = \\sum_{i=1}^{n} (Y_i - (\\alpha + \\beta * X_i))^2 $$"
   ]
  },
  {
   "cell_type": "markdown",
   "metadata": {},
   "source": [
    "### Model Evaluation"
   ]
  },
  {
   "cell_type": "markdown",
   "metadata": {},
   "source": [
    "$$ R^2 value = \\frac{RSS}{TSS} $$\n",
    "\n",
    "`RSS - Residual Sum of Squares`\n",
    "\n",
    "`TSS - Total Sum of Squares`\n",
    "\n",
    "**R Sqaured Value**\n",
    "\n",
    "R-squared is always between 0 and 100%:\n",
    "\n",
    "1. 0% represents a model that does not explain any of the variation in the response variable around its mean. The mean of the dependent variable predicts the dependent variable as well as the regression model.\n",
    "\n",
    "2. 100% represents a model that explains all of the variation in the response variable around its mean.\n",
    "\n",
    "Usually, the larger the R2, the better the regression model fits your observations. However, this guideline has important caveats that I’ll discuss in both this post and the next post."
   ]
  },
  {
   "cell_type": "code",
   "execution_count": 65,
   "metadata": {},
   "outputs": [
    {
     "name": "stdout",
     "output_type": "stream",
     "text": [
      "New R2 = 0.5045346498493093.\n"
     ]
    }
   ],
   "source": [
    "# Adding the column predicted \n",
    "df['ypred'] = ypred\n",
    "\n",
    "df['RSS'] = (df['ypred'] - ymean)**2\n",
    "\n",
    "df['TSS'] = (df['y'] - ymean)**2\n",
    "\n",
    "RSS = df['RSS'].sum()\n",
    "TSS = df['TSS'].sum()\n",
    "\n",
    "# Calculate new R2\n",
    "R2 = RSS / TSS\n",
    "print(f'New R2 = {R2}.')"
   ]
  },
  {
   "cell_type": "code",
   "execution_count": null,
   "metadata": {},
   "outputs": [],
   "source": [
    "0 to 1"
   ]
  }
 ],
 "metadata": {
  "kernelspec": {
   "display_name": "Python 3",
   "language": "python",
   "name": "python3"
  },
  "language_info": {
   "codemirror_mode": {
    "name": "ipython",
    "version": 3
   },
   "file_extension": ".py",
   "mimetype": "text/x-python",
   "name": "python",
   "nbconvert_exporter": "python",
   "pygments_lexer": "ipython3",
   "version": "3.6.10"
  }
 },
 "nbformat": 4,
 "nbformat_minor": 4
}
