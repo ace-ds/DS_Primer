{
 "cells": [
  {
   "cell_type": "markdown",
   "metadata": {},
   "source": [
    "## Multiple Regression"
   ]
  },
  {
   "cell_type": "markdown",
   "metadata": {},
   "source": [
    "A multiple linear regression is simply a linear regression that involves more than one predictor variable. It is represented as:\n",
    "\n",
    "$Y = \\alpha + \\beta_1*X_1  + \\beta_2*X_2 + \\dots  + \\beta_p*X_p$  \n",
    "\n",
    "Each *β<sub>i</sub>* will be estimated using the least sum of squares method.\n",
    "\n",
    "As mentioned previously, values of the RSE generally decrease as we add variables that are significant predictors of the output variable – hence, using more variables can increase the efficiency of a model.\n",
    "\n",
    "However, it also increases the complexity of model building since process of selecting variables to be kept and discarded can become tedious.\n",
    "\n",
    "With this simple dataset of three predictor variables, there can be seven possible models:\n",
    "\n",
    "1. Sales ~ TV\n",
    "2. Sales ~ Newspaper\n",
    "3. Sales ~ Radio\n",
    "4. Sales ~ TV + Radio\n",
    "5. Sales ~ TV + Newspaper\n",
    "6. Sales ~ Newspaper + Radio\n",
    "7. Sales ~ TV + Radio + Newspaper\n",
    "\n",
    "Generally, if there are p possible predictor variables, there can be *(2<sup>p</sup> - 1)* possible models – this can get large very quickly!\n"
   ]
  },
  {
   "cell_type": "code",
   "execution_count": 14,
   "metadata": {},
   "outputs": [],
   "source": [
    "# Import necessary libaries and data\n",
    "import pandas as pd\n",
    "import numpy as np\n",
    "\n",
    "advert = pd.read_csv('advertising.csv')"
   ]
  },
  {
   "cell_type": "code",
   "execution_count": 15,
   "metadata": {},
   "outputs": [
    {
     "data": {
      "text/html": [
       "<div>\n",
       "<style scoped>\n",
       "    .dataframe tbody tr th:only-of-type {\n",
       "        vertical-align: middle;\n",
       "    }\n",
       "\n",
       "    .dataframe tbody tr th {\n",
       "        vertical-align: top;\n",
       "    }\n",
       "\n",
       "    .dataframe thead th {\n",
       "        text-align: right;\n",
       "    }\n",
       "</style>\n",
       "<table border=\"1\" class=\"dataframe\">\n",
       "  <thead>\n",
       "    <tr style=\"text-align: right;\">\n",
       "      <th></th>\n",
       "      <th>TV</th>\n",
       "      <th>Radio</th>\n",
       "      <th>Newspaper</th>\n",
       "      <th>Sales</th>\n",
       "    </tr>\n",
       "  </thead>\n",
       "  <tbody>\n",
       "    <tr>\n",
       "      <th>0</th>\n",
       "      <td>230.1</td>\n",
       "      <td>37.8</td>\n",
       "      <td>69.2</td>\n",
       "      <td>22.1</td>\n",
       "    </tr>\n",
       "    <tr>\n",
       "      <th>1</th>\n",
       "      <td>44.5</td>\n",
       "      <td>39.3</td>\n",
       "      <td>45.1</td>\n",
       "      <td>10.4</td>\n",
       "    </tr>\n",
       "    <tr>\n",
       "      <th>2</th>\n",
       "      <td>17.2</td>\n",
       "      <td>45.9</td>\n",
       "      <td>69.3</td>\n",
       "      <td>9.3</td>\n",
       "    </tr>\n",
       "    <tr>\n",
       "      <th>3</th>\n",
       "      <td>151.5</td>\n",
       "      <td>41.3</td>\n",
       "      <td>58.5</td>\n",
       "      <td>18.5</td>\n",
       "    </tr>\n",
       "    <tr>\n",
       "      <th>4</th>\n",
       "      <td>180.8</td>\n",
       "      <td>10.8</td>\n",
       "      <td>58.4</td>\n",
       "      <td>12.9</td>\n",
       "    </tr>\n",
       "    <tr>\n",
       "      <th>...</th>\n",
       "      <td>...</td>\n",
       "      <td>...</td>\n",
       "      <td>...</td>\n",
       "      <td>...</td>\n",
       "    </tr>\n",
       "    <tr>\n",
       "      <th>195</th>\n",
       "      <td>38.2</td>\n",
       "      <td>3.7</td>\n",
       "      <td>13.8</td>\n",
       "      <td>7.6</td>\n",
       "    </tr>\n",
       "    <tr>\n",
       "      <th>196</th>\n",
       "      <td>94.2</td>\n",
       "      <td>4.9</td>\n",
       "      <td>8.1</td>\n",
       "      <td>9.7</td>\n",
       "    </tr>\n",
       "    <tr>\n",
       "      <th>197</th>\n",
       "      <td>177.0</td>\n",
       "      <td>9.3</td>\n",
       "      <td>6.4</td>\n",
       "      <td>12.8</td>\n",
       "    </tr>\n",
       "    <tr>\n",
       "      <th>198</th>\n",
       "      <td>283.6</td>\n",
       "      <td>42.0</td>\n",
       "      <td>66.2</td>\n",
       "      <td>25.5</td>\n",
       "    </tr>\n",
       "    <tr>\n",
       "      <th>199</th>\n",
       "      <td>232.1</td>\n",
       "      <td>8.6</td>\n",
       "      <td>8.7</td>\n",
       "      <td>13.4</td>\n",
       "    </tr>\n",
       "  </tbody>\n",
       "</table>\n",
       "<p>200 rows × 4 columns</p>\n",
       "</div>"
      ],
      "text/plain": [
       "        TV  Radio  Newspaper  Sales\n",
       "0    230.1   37.8       69.2   22.1\n",
       "1     44.5   39.3       45.1   10.4\n",
       "2     17.2   45.9       69.3    9.3\n",
       "3    151.5   41.3       58.5   18.5\n",
       "4    180.8   10.8       58.4   12.9\n",
       "..     ...    ...        ...    ...\n",
       "195   38.2    3.7       13.8    7.6\n",
       "196   94.2    4.9        8.1    9.7\n",
       "197  177.0    9.3        6.4   12.8\n",
       "198  283.6   42.0       66.2   25.5\n",
       "199  232.1    8.6        8.7   13.4\n",
       "\n",
       "[200 rows x 4 columns]"
      ]
     },
     "execution_count": 15,
     "metadata": {},
     "output_type": "execute_result"
    }
   ],
   "source": [
    "advert"
   ]
  },
  {
   "cell_type": "code",
   "execution_count": 16,
   "metadata": {},
   "outputs": [
    {
     "data": {
      "text/plain": [
       "[        TV  Radio  Newspaper\n",
       " 134   36.9   38.6       65.6\n",
       " 66    31.5   24.6        2.2\n",
       " 26   142.9   29.3       12.6\n",
       " 113  209.6   20.6       10.7\n",
       " 168  215.4   23.6       57.6\n",
       " ..     ...    ...        ...\n",
       " 67   139.3   14.5       10.2\n",
       " 192   17.2    4.1       31.6\n",
       " 117   76.4    0.8       14.8\n",
       " 47   239.9   41.5       18.5\n",
       " 172   19.6   20.1       17.0\n",
       " \n",
       " [160 rows x 3 columns],\n",
       "         TV  Radio  Newspaper\n",
       " 18    69.2   20.5       18.3\n",
       " 170   50.0   11.6       18.4\n",
       " 107   90.4    0.3       23.2\n",
       " 98   289.7   42.3       51.2\n",
       " 177  170.2    7.8       35.2\n",
       " 182   56.2    5.7       29.7\n",
       " 5      8.7   48.9       75.0\n",
       " 146  240.1    7.3        8.7\n",
       " 12    23.8   35.1       65.9\n",
       " 152  197.6   23.3       14.2\n",
       " 61   261.3   42.7       54.7\n",
       " 125   87.2   11.8       25.9\n",
       " 180  156.6    2.6        8.3\n",
       " 154  187.8   21.1        9.5\n",
       " 80    76.4   26.7       22.3\n",
       " 7    120.2   19.6       11.6\n",
       " 33   265.6   20.0        0.3\n",
       " 130    0.7   39.6        8.7\n",
       " 37    74.7   49.4       45.7\n",
       " 74   213.4   24.6       13.1\n",
       " 183  287.6   43.0       71.8\n",
       " 145  140.3    1.9        9.0\n",
       " 45   175.1   22.5       31.5\n",
       " 159  131.7   18.4       34.6\n",
       " 60    53.5    2.0       21.4\n",
       " 123  123.1   34.6       12.4\n",
       " 179  165.6   10.0       17.6\n",
       " 185  205.0   45.1       19.6\n",
       " 122  224.0    2.4       15.6\n",
       " 44    25.1   25.7       43.3\n",
       " 16    67.8   36.6      114.0\n",
       " 55   198.9   49.4       60.0\n",
       " 150  280.7   13.9       37.0\n",
       " 111  241.7   38.0       23.2\n",
       " 22    13.2   15.9       49.6\n",
       " 189   18.7   12.1       23.4\n",
       " 129   59.6   12.0       43.1\n",
       " 4    180.8   10.8       58.4\n",
       " 83    68.4   44.5       35.6\n",
       " 106   25.0   11.0       29.7,\n",
       " 134    10.8\n",
       " 66      9.5\n",
       " 26     15.0\n",
       " 113    15.9\n",
       " 168    17.1\n",
       "        ... \n",
       " 67     13.4\n",
       " 192     5.9\n",
       " 117     9.4\n",
       " 47     23.2\n",
       " 172     7.6\n",
       " Name: Sales, Length: 160, dtype: float64,\n",
       " 18     11.3\n",
       " 170     8.4\n",
       " 107     8.7\n",
       " 98     25.4\n",
       " 177    11.7\n",
       " 182     8.7\n",
       " 5       7.2\n",
       " 146    13.2\n",
       " 12      9.2\n",
       " 152    16.6\n",
       " 61     24.2\n",
       " 125    10.6\n",
       " 180    10.5\n",
       " 154    15.6\n",
       " 80     11.8\n",
       " 7      13.2\n",
       " 33     17.4\n",
       " 130     1.6\n",
       " 37     14.7\n",
       " 74     17.0\n",
       " 183    26.2\n",
       " 145    10.3\n",
       " 45     14.9\n",
       " 159    12.9\n",
       " 60      8.1\n",
       " 123    15.2\n",
       " 179    12.6\n",
       " 185    22.6\n",
       " 122    11.6\n",
       " 44      8.5\n",
       " 16     12.5\n",
       " 55     23.7\n",
       " 150    16.1\n",
       " 111    21.8\n",
       " 22      5.6\n",
       " 189     6.7\n",
       " 129     9.7\n",
       " 4      12.9\n",
       " 83     13.6\n",
       " 106     7.2\n",
       " Name: Sales, dtype: float64]"
      ]
     },
     "execution_count": 16,
     "metadata": {},
     "output_type": "execute_result"
    }
   ],
   "source": [
    "train_test_split(X, Y, test_size=0.2, random_state=0)"
   ]
  },
  {
   "cell_type": "code",
   "execution_count": 5,
   "metadata": {},
   "outputs": [
    {
     "data": {
      "text/plain": [
       "LinearRegression(copy_X=True, fit_intercept=True, n_jobs=None, normalize=False)"
      ]
     },
     "execution_count": 5,
     "metadata": {},
     "output_type": "execute_result"
    }
   ],
   "source": [
    "# Import necessary scikit-learn methods\n",
    "from sklearn.linear_model import LinearRegression\n",
    "from sklearn.model_selection import train_test_split\n",
    "\n",
    "# Build linear regression model using TV, Radio, and Newspaper as predictors\n",
    "# Split data into predictors X and output Y\n",
    "predictors = ['TV', 'Radio', 'Newspaper']\n",
    "X = advert[predictors]\n",
    "Y = advert['Sales']\n",
    "\n",
    "# Split data into training and testing sets using `train_test_split` method\n",
    "trainX, testX, trainY, testY = train_test_split(X, Y, test_size=0.2, random_state=0)\n",
    "\n",
    "# Initialise and fit model\n",
    "lm = LinearRegression()\n",
    "lm.fit(trainX, trainY)"
   ]
  },
  {
   "cell_type": "code",
   "execution_count": 17,
   "metadata": {},
   "outputs": [
    {
     "name": "stdout",
     "output_type": "stream",
     "text": [
      "alpha = 2.994893030495332\n",
      "betas = [ 0.04458402  0.19649703 -0.00278146]\n"
     ]
    }
   ],
   "source": [
    "print(f'alpha = {lm.intercept_}')\n",
    "print(f'betas = {lm.coef_}')"
   ]
  },
  {
   "cell_type": "code",
   "execution_count": 18,
   "metadata": {},
   "outputs": [
    {
     "data": {
      "text/plain": [
       "0.9067114990146383"
      ]
     },
     "execution_count": 18,
     "metadata": {},
     "output_type": "execute_result"
    }
   ],
   "source": [
    "lm.score(trainX, trainY)"
   ]
  },
  {
   "cell_type": "code",
   "execution_count": 19,
   "metadata": {},
   "outputs": [
    {
     "data": {
      "text/plain": [
       "array([10.05739563,  7.4522807 ,  7.0197076 , 24.08029725, 12.01786259,\n",
       "        6.53793858, 12.78286918, 15.10974587, 10.76974013, 16.34357951,\n",
       "       22.88297477,  9.12924467, 10.46455672, 15.48743552, 11.58555633,\n",
       "       12.17296914, 18.76551502, 10.78318566, 15.90515992, 17.30651279,\n",
       "       24.06692057,  9.59834224, 15.13512211, 12.38591525,  5.71360885,\n",
       "       15.24749314, 12.29402334, 20.9421167 , 13.40991558,  9.04348832,\n",
       "       12.89239415, 21.40272028, 18.13802209, 21.17320803,  6.56974433,\n",
       "        6.14114206,  7.89018394, 13.01541434, 14.68953791,  6.18835143])"
      ]
     },
     "execution_count": 19,
     "metadata": {},
     "output_type": "execute_result"
    }
   ],
   "source": [
    "lm.predict(testX)"
   ]
  },
  {
   "cell_type": "markdown",
   "metadata": {},
   "source": [
    "## Feature Selection"
   ]
  },
  {
   "cell_type": "code",
   "execution_count": 10,
   "metadata": {},
   "outputs": [],
   "source": [
    "from sklearn.feature_selection import RFE   # Recursive Feature Elimination\n",
    "from sklearn.svm import SVR                 # Support Vector Regression\n",
    "\n",
    "# Start with all possible predictors\n",
    "predictors = ['TV', 'Radio', 'Newspaper']\n",
    "X = advert[predictors]\n",
    "Y = advert['Sales']\n",
    "\n",
    "# Estimate a linear model\n",
    "estimator = SVR(kernel=\"linear\")\n",
    "\n",
    "# Using RFE, specify 2 predictors for the final model\n",
    "# and 1 predictor to remove at each iteration\n",
    "selector = RFE(estimator, 2, step=1)\n",
    "selector = selector.fit(X, Y)"
   ]
  },
  {
   "cell_type": "markdown",
   "metadata": {},
   "source": [
    "We use the method `SVR` to estimate a linear model. Then, using `RFE` we specify the number of desired variables in the model to be two, and the number of variables to remove at each iteration to be one. \n",
    "\n",
    "For more information about these methods, you can read the documentation [here](http://scikit-learn.org/stable/modules/generated/sklearn.feature_selection.RFE.html) and [here](http://scikit-learn.org/stable/modules/generated/sklearn.svm.SVR.html).\n",
    "\n",
    "To get the list of selected variables, we call use:"
   ]
  },
  {
   "cell_type": "code",
   "execution_count": 12,
   "metadata": {},
   "outputs": [
    {
     "data": {
      "text/plain": [
       "array([ True,  True, False])"
      ]
     },
     "execution_count": 12,
     "metadata": {},
     "output_type": "execute_result"
    }
   ],
   "source": [
    "selector.support_"
   ]
  },
  {
   "cell_type": "code",
   "execution_count": 13,
   "metadata": {},
   "outputs": [
    {
     "data": {
      "text/plain": [
       "array([1, 1, 2])"
      ]
     },
     "execution_count": 13,
     "metadata": {},
     "output_type": "execute_result"
    }
   ],
   "source": [
    "selector.ranking_"
   ]
  }
 ],
 "metadata": {
  "kernelspec": {
   "display_name": "Python 3",
   "language": "python",
   "name": "python3"
  },
  "language_info": {
   "codemirror_mode": {
    "name": "ipython",
    "version": 3
   },
   "file_extension": ".py",
   "mimetype": "text/x-python",
   "name": "python",
   "nbconvert_exporter": "python",
   "pygments_lexer": "ipython3",
   "version": "3.6.10"
  }
 },
 "nbformat": 4,
 "nbformat_minor": 4
}
